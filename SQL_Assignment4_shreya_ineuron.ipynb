{
 "cells": [
  {
   "cell_type": "markdown",
   "id": "a915ed63",
   "metadata": {},
   "source": [
    "**Q-1. Write an SQL query to print the FIRST_NAME from Worker table after replacing ‘a’ with ‘A’.**"
   ]
  },
  {
   "cell_type": "markdown",
   "id": "d493decf",
   "metadata": {},
   "source": [
    "Select REPLACE(FIRST_NAME, 'a', 'A') from Worker;"
   ]
  },
  {
   "cell_type": "markdown",
   "id": "983b4e65",
   "metadata": {},
   "source": [
    "**Q-2. Write an SQL query to print all Worker details from the Worker table order by FIRST_NAME Ascending and DEPARTMENT Descending.**"
   ]
  },
  {
   "cell_type": "markdown",
   "id": "317e5d26",
   "metadata": {},
   "source": [
    "Select * from Worker order by FIRST_NAME asc, DEPARTMENT desc;"
   ]
  },
  {
   "cell_type": "markdown",
   "id": "418043c4",
   "metadata": {},
   "source": [
    "**Q-3. Write an SQL query to fetch the names of workers who earn the highest salary.**"
   ]
  },
  {
   "cell_type": "markdown",
   "id": "d0658d78",
   "metadata": {},
   "source": [
    "Select FIRST_NAME, LAST_NAME from Worker where Salary = (Select max(salary) from Worker)"
   ]
  }
 ],
 "metadata": {
  "kernelspec": {
   "display_name": "Python 3 (ipykernel)",
   "language": "python",
   "name": "python3"
  },
  "language_info": {
   "codemirror_mode": {
    "name": "ipython",
    "version": 3
   },
   "file_extension": ".py",
   "mimetype": "text/x-python",
   "name": "python",
   "nbconvert_exporter": "python",
   "pygments_lexer": "ipython3",
   "version": "3.9.7"
  }
 },
 "nbformat": 4,
 "nbformat_minor": 5
}
